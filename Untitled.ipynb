{
 "cells": [
  {
   "cell_type": "markdown",
   "id": "efd0724d",
   "metadata": {},
   "source": [
    "# Hypothesis Testing: Insurance Data"
   ]
  },
  {
   "cell_type": "markdown",
   "id": "95c638b4",
   "metadata": {},
   "source": [
    "Q1: Do smokers have higher insurance charges than non-smokers?\n",
    "\n",
    "Null-Hypothesis: There is no significant difference in charges between smokers and non-smokers\n"
   ]
  }
 ],
 "metadata": {
  "kernelspec": {
   "display_name": "Python (dojo-env)",
   "language": "python",
   "name": "dojo-env"
  },
  "language_info": {
   "codemirror_mode": {
    "name": "ipython",
    "version": 3
   },
   "file_extension": ".py",
   "mimetype": "text/x-python",
   "name": "python",
   "nbconvert_exporter": "python",
   "pygments_lexer": "ipython3",
   "version": "3.8.13"
  },
  "toc": {
   "base_numbering": 1,
   "nav_menu": {},
   "number_sections": true,
   "sideBar": true,
   "skip_h1_title": false,
   "title_cell": "Table of Contents",
   "title_sidebar": "Contents",
   "toc_cell": false,
   "toc_position": {},
   "toc_section_display": true,
   "toc_window_display": false
  }
 },
 "nbformat": 4,
 "nbformat_minor": 5
}
