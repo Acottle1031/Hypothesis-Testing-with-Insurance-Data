{
 "cells": [
  {
   "cell_type": "markdown",
   "id": "efd0724d",
   "metadata": {},
   "source": [
    "# Hypothesis Testing: Insurance Data"
   ]
  },
  {
   "cell_type": "code",
   "execution_count": 1,
   "id": "d459a8df",
   "metadata": {},
   "outputs": [],
   "source": [
    "# Imports \n",
    "import numpy as np\n",
    "import pandas as pd \n",
    "import matplotlib.pyplot as plt\n",
    "import seaborn as sns\n",
    "import scipy.stats as stats"
   ]
  },
  {
   "cell_type": "code",
   "execution_count": 2,
   "id": "823d2738",
   "metadata": {
    "scrolled": true
   },
   "outputs": [
    {
     "data": {
      "text/html": [
       "<div>\n",
       "<style scoped>\n",
       "    .dataframe tbody tr th:only-of-type {\n",
       "        vertical-align: middle;\n",
       "    }\n",
       "\n",
       "    .dataframe tbody tr th {\n",
       "        vertical-align: top;\n",
       "    }\n",
       "\n",
       "    .dataframe thead th {\n",
       "        text-align: right;\n",
       "    }\n",
       "</style>\n",
       "<table border=\"1\" class=\"dataframe\">\n",
       "  <thead>\n",
       "    <tr style=\"text-align: right;\">\n",
       "      <th></th>\n",
       "      <th>age</th>\n",
       "      <th>sex</th>\n",
       "      <th>bmi</th>\n",
       "      <th>children</th>\n",
       "      <th>smoker</th>\n",
       "      <th>region</th>\n",
       "      <th>charges</th>\n",
       "    </tr>\n",
       "  </thead>\n",
       "  <tbody>\n",
       "    <tr>\n",
       "      <th>0</th>\n",
       "      <td>19</td>\n",
       "      <td>female</td>\n",
       "      <td>27.900</td>\n",
       "      <td>0</td>\n",
       "      <td>yes</td>\n",
       "      <td>southwest</td>\n",
       "      <td>16884.92400</td>\n",
       "    </tr>\n",
       "    <tr>\n",
       "      <th>1</th>\n",
       "      <td>18</td>\n",
       "      <td>male</td>\n",
       "      <td>33.770</td>\n",
       "      <td>1</td>\n",
       "      <td>no</td>\n",
       "      <td>southeast</td>\n",
       "      <td>1725.55230</td>\n",
       "    </tr>\n",
       "    <tr>\n",
       "      <th>2</th>\n",
       "      <td>28</td>\n",
       "      <td>male</td>\n",
       "      <td>33.000</td>\n",
       "      <td>3</td>\n",
       "      <td>no</td>\n",
       "      <td>southeast</td>\n",
       "      <td>4449.46200</td>\n",
       "    </tr>\n",
       "    <tr>\n",
       "      <th>3</th>\n",
       "      <td>33</td>\n",
       "      <td>male</td>\n",
       "      <td>22.705</td>\n",
       "      <td>0</td>\n",
       "      <td>no</td>\n",
       "      <td>northwest</td>\n",
       "      <td>21984.47061</td>\n",
       "    </tr>\n",
       "    <tr>\n",
       "      <th>4</th>\n",
       "      <td>32</td>\n",
       "      <td>male</td>\n",
       "      <td>28.880</td>\n",
       "      <td>0</td>\n",
       "      <td>no</td>\n",
       "      <td>northwest</td>\n",
       "      <td>3866.85520</td>\n",
       "    </tr>\n",
       "  </tbody>\n",
       "</table>\n",
       "</div>"
      ],
      "text/plain": [
       "   age     sex     bmi  children smoker     region      charges\n",
       "0   19  female  27.900         0    yes  southwest  16884.92400\n",
       "1   18    male  33.770         1     no  southeast   1725.55230\n",
       "2   28    male  33.000         3     no  southeast   4449.46200\n",
       "3   33    male  22.705         0     no  northwest  21984.47061\n",
       "4   32    male  28.880         0     no  northwest   3866.85520"
      ]
     },
     "execution_count": 2,
     "metadata": {},
     "output_type": "execute_result"
    }
   ],
   "source": [
    "# Loading Data\n",
    "df = pd.read_csv('Data/insurance - insurance.csv')\n",
    "df.head()"
   ]
  },
  {
   "cell_type": "code",
   "execution_count": 3,
   "id": "1335b80f",
   "metadata": {
    "scrolled": true
   },
   "outputs": [
    {
     "data": {
      "text/plain": [
       "1"
      ]
     },
     "execution_count": 3,
     "metadata": {},
     "output_type": "execute_result"
    }
   ],
   "source": [
    "# Checking for Duplicates and missing values\n",
    "df.duplicated().sum()"
   ]
  },
  {
   "cell_type": "code",
   "execution_count": 4,
   "id": "ddd60d92",
   "metadata": {
    "scrolled": true
   },
   "outputs": [
    {
     "data": {
      "text/plain": [
       "age         0\n",
       "sex         0\n",
       "bmi         0\n",
       "children    0\n",
       "smoker      0\n",
       "region      0\n",
       "charges     0\n",
       "dtype: int64"
      ]
     },
     "execution_count": 4,
     "metadata": {},
     "output_type": "execute_result"
    }
   ],
   "source": [
    "df.isna().sum()"
   ]
  },
  {
   "cell_type": "code",
   "execution_count": 5,
   "id": "d921890b",
   "metadata": {},
   "outputs": [],
   "source": [
    "# Dropping duplicates\n",
    "df.drop_duplicates(inplace=True)"
   ]
  },
  {
   "cell_type": "code",
   "execution_count": 6,
   "id": "c914d1c9",
   "metadata": {},
   "outputs": [
    {
     "data": {
      "text/plain": [
       "0"
      ]
     },
     "execution_count": 6,
     "metadata": {},
     "output_type": "execute_result"
    }
   ],
   "source": [
    "df.duplicated().sum()"
   ]
  },
  {
   "cell_type": "markdown",
   "id": "95c638b4",
   "metadata": {},
   "source": [
    "## Q1: Do smokers have higher insurance charges than non-smokers?\n",
    "\n",
    "Null-Hypothesis: There is no significant difference in charges between smokers and non-smokers\n",
    "\n",
    "Alternate Hypothesis: There is a significant difference in charges between smokers and non-smokers"
   ]
  },
  {
   "cell_type": "code",
   "execution_count": 7,
   "id": "c7b35352",
   "metadata": {},
   "outputs": [
    {
     "data": {
      "text/plain": [
       "no     1063\n",
       "yes     274\n",
       "Name: smoker, dtype: int64"
      ]
     },
     "execution_count": 7,
     "metadata": {},
     "output_type": "execute_result"
    }
   ],
   "source": [
    "# Creating groups for smokers & non-smokers\n",
    "df['smoker'].value_counts()"
   ]
  },
  {
   "cell_type": "code",
   "execution_count": 8,
   "id": "ae2acca0",
   "metadata": {
    "scrolled": true
   },
   "outputs": [
    {
     "data": {
      "text/html": [
       "<div>\n",
       "<style scoped>\n",
       "    .dataframe tbody tr th:only-of-type {\n",
       "        vertical-align: middle;\n",
       "    }\n",
       "\n",
       "    .dataframe tbody tr th {\n",
       "        vertical-align: top;\n",
       "    }\n",
       "\n",
       "    .dataframe thead th {\n",
       "        text-align: right;\n",
       "    }\n",
       "</style>\n",
       "<table border=\"1\" class=\"dataframe\">\n",
       "  <thead>\n",
       "    <tr style=\"text-align: right;\">\n",
       "      <th></th>\n",
       "      <th>age</th>\n",
       "      <th>sex</th>\n",
       "      <th>bmi</th>\n",
       "      <th>children</th>\n",
       "      <th>smoker</th>\n",
       "      <th>region</th>\n",
       "      <th>charges</th>\n",
       "    </tr>\n",
       "  </thead>\n",
       "  <tbody>\n",
       "    <tr>\n",
       "      <th>0</th>\n",
       "      <td>19</td>\n",
       "      <td>female</td>\n",
       "      <td>27.90</td>\n",
       "      <td>0</td>\n",
       "      <td>yes</td>\n",
       "      <td>southwest</td>\n",
       "      <td>16884.9240</td>\n",
       "    </tr>\n",
       "    <tr>\n",
       "      <th>11</th>\n",
       "      <td>62</td>\n",
       "      <td>female</td>\n",
       "      <td>26.29</td>\n",
       "      <td>0</td>\n",
       "      <td>yes</td>\n",
       "      <td>southeast</td>\n",
       "      <td>27808.7251</td>\n",
       "    </tr>\n",
       "    <tr>\n",
       "      <th>14</th>\n",
       "      <td>27</td>\n",
       "      <td>male</td>\n",
       "      <td>42.13</td>\n",
       "      <td>0</td>\n",
       "      <td>yes</td>\n",
       "      <td>southeast</td>\n",
       "      <td>39611.7577</td>\n",
       "    </tr>\n",
       "    <tr>\n",
       "      <th>19</th>\n",
       "      <td>30</td>\n",
       "      <td>male</td>\n",
       "      <td>35.30</td>\n",
       "      <td>0</td>\n",
       "      <td>yes</td>\n",
       "      <td>southwest</td>\n",
       "      <td>36837.4670</td>\n",
       "    </tr>\n",
       "    <tr>\n",
       "      <th>23</th>\n",
       "      <td>34</td>\n",
       "      <td>female</td>\n",
       "      <td>31.92</td>\n",
       "      <td>1</td>\n",
       "      <td>yes</td>\n",
       "      <td>northeast</td>\n",
       "      <td>37701.8768</td>\n",
       "    </tr>\n",
       "  </tbody>\n",
       "</table>\n",
       "</div>"
      ],
      "text/plain": [
       "    age     sex    bmi  children smoker     region     charges\n",
       "0    19  female  27.90         0    yes  southwest  16884.9240\n",
       "11   62  female  26.29         0    yes  southeast  27808.7251\n",
       "14   27    male  42.13         0    yes  southeast  39611.7577\n",
       "19   30    male  35.30         0    yes  southwest  36837.4670\n",
       "23   34  female  31.92         1    yes  northeast  37701.8768"
      ]
     },
     "execution_count": 8,
     "metadata": {},
     "output_type": "execute_result"
    }
   ],
   "source": [
    "smokers_df = df.loc[df['smoker']=='yes'].copy()\n",
    "non_smokers_df = df.loc[df['smoker']=='no'].copy()\n",
    "smokers_df.head()"
   ]
  },
  {
   "cell_type": "code",
   "execution_count": 9,
   "id": "5caf1e14",
   "metadata": {},
   "outputs": [],
   "source": [
    "# Defining features of interest\n",
    "smokers_charges = smokers_df['charges']\n",
    "non_smokers_charges = non_smokers_df['charges']"
   ]
  },
  {
   "cell_type": "code",
   "execution_count": 10,
   "id": "8901740f",
   "metadata": {
    "scrolled": true
   },
   "outputs": [
    {
     "data": {
      "text/plain": [
       "0"
      ]
     },
     "execution_count": 10,
     "metadata": {},
     "output_type": "execute_result"
    }
   ],
   "source": [
    "# Checking for outliers\n",
    "smoker_zscores = stats.zscore(smokers_charges)\n",
    "smoker_outliers = abs(smoker_zscores)>3\n",
    "np.sum(smoker_outliers)"
   ]
  },
  {
   "cell_type": "code",
   "execution_count": 11,
   "id": "bbc2d711",
   "metadata": {},
   "outputs": [
    {
     "data": {
      "text/plain": [
       "24"
      ]
     },
     "execution_count": 11,
     "metadata": {},
     "output_type": "execute_result"
    }
   ],
   "source": [
    "non_smoker_zscores = stats.zscore(non_smokers_charges)\n",
    "non_smoker_outliers = abs(non_smoker_zscores)>3\n",
    "np.sum(non_smoker_outliers)"
   ]
  },
  {
   "cell_type": "code",
   "execution_count": 17,
   "id": "46dc62e1",
   "metadata": {
    "scrolled": true
   },
   "outputs": [],
   "source": [
    "# Removing outliers \n",
    "non_smokers_charges = non_smokers_charges[(np.abs(stats.zscore(non_smokers_charges)) < 3)]"
   ]
  },
  {
   "cell_type": "code",
   "execution_count": 18,
   "id": "22022a9b",
   "metadata": {},
   "outputs": [
    {
     "name": "stdout",
     "output_type": "stream",
     "text": [
      "LeveneResult(statistic=787.2237971491927, pvalue=2.6998744150545128e-135)\n",
      "True\n"
     ]
    }
   ],
   "source": [
    "equal_var_res = stats.levene(smokers_charges, non_smokers_charges)\n",
    "print(equal_var_res)\n",
    "print(equal_var_res.pvalue<.05)"
   ]
  },
  {
   "cell_type": "code",
   "execution_count": 20,
   "id": "b55cb3b5",
   "metadata": {},
   "outputs": [
    {
     "name": "stdout",
     "output_type": "stream",
     "text": [
      "Ttest_indResult(statistic=34.73706539258605, pvalue=6.558175557634472e-106)\n",
      "True\n"
     ]
    }
   ],
   "source": [
    "# due to us not meeting our assumptions, we'll be running a Welch's T-Test due to unequal variance\n",
    "ttest_result = stats.ttest_ind(smokers_charges,\n",
    "                              non_smokers_charges,\n",
    "                              equal_var=False)\n",
    "print(ttest_result)\n",
    "print(ttest_result.pvalue<.05)"
   ]
  },
  {
   "cell_type": "code",
   "execution_count": 23,
   "id": "ed6b7a8f",
   "metadata": {
    "scrolled": true
   },
   "outputs": [
    {
     "data": {
      "image/png": "[encoded data removed]",
      "text/plain": [
       "<Figure size 432x288 with 1 Axes>"
      ]
     },
     "metadata": {
      "needs_background": "light"
     },
     "output_type": "display_data"
    }
   ],
   "source": [
    "# concatenating previous dataframes and plotting\n",
    "plotting_df_q1 = pd.concat([smokers_df, non_smokers_df])\n",
    "ax=sns.barplot(data=plotting_df_q1, x = 'smoker', y='charges')\n",
    "ax.set(title=\"Charges based on smoker status\");"
   ]
  },
  {
   "cell_type": "markdown",
   "id": "a1c487b2",
   "metadata": {},
   "source": [
    "### Conclusion for Q1\n",
    "\n",
    "For this hypothesis, with our p value being less than 0.05 we will reject the null hypothesis. \"There is a significant difference in charges between smokers and non-smokers\""
   ]
  },
  {
   "cell_type": "markdown",
   "id": "115f3d4b",
   "metadata": {},
   "source": [
    "## Q2: Are men more likely to smoke than women?\n",
    "\n",
    "Null-Hypothesis: There is no difference in the likeliness to smoke between men and women.\n",
    "\n",
    "Alternate Hypothesis: Men are more likely to smoke than women."
   ]
  },
  {
   "cell_type": "code",
   "execution_count": 29,
   "id": "081776c7",
   "metadata": {
    "scrolled": false
   },
   "outputs": [
    {
     "data": {
      "image/png": "[encoded data removed]",
      "text/plain": [
       "<Figure size 432x288 with 1 Axes>"
      ]
     },
     "metadata": {
      "needs_background": "light"
     },
     "output_type": "display_data"
    }
   ],
   "source": [
    "# visualizing smokers by sex \n",
    "ax = sns.countplot(data=df, x='sex', hue='smoker')\n",
    "ax.set_title('Number of Smokers by Sex');"
   ]
  },
  {
   "cell_type": "code",
   "execution_count": 30,
   "id": "9de557c5",
   "metadata": {
    "scrolled": true
   },
   "outputs": [
    {
     "data": {
      "text/html": [
       "<div>\n",
       "<style scoped>\n",
       "    .dataframe tbody tr th:only-of-type {\n",
       "        vertical-align: middle;\n",
       "    }\n",
       "\n",
       "    .dataframe tbody tr th {\n",
       "        vertical-align: top;\n",
       "    }\n",
       "\n",
       "    .dataframe thead th {\n",
       "        text-align: right;\n",
       "    }\n",
       "</style>\n",
       "<table border=\"1\" class=\"dataframe\">\n",
       "  <thead>\n",
       "    <tr style=\"text-align: right;\">\n",
       "      <th>smoker</th>\n",
       "      <th>no</th>\n",
       "      <th>yes</th>\n",
       "    </tr>\n",
       "    <tr>\n",
       "      <th>sex</th>\n",
       "      <th></th>\n",
       "      <th></th>\n",
       "    </tr>\n",
       "  </thead>\n",
       "  <tbody>\n",
       "    <tr>\n",
       "      <th>female</th>\n",
       "      <td>547</td>\n",
       "      <td>115</td>\n",
       "    </tr>\n",
       "    <tr>\n",
       "      <th>male</th>\n",
       "      <td>516</td>\n",
       "      <td>159</td>\n",
       "    </tr>\n",
       "  </tbody>\n",
       "</table>\n",
       "</div>"
      ],
      "text/plain": [
       "smoker   no  yes\n",
       "sex             \n",
       "female  547  115\n",
       "male    516  159"
      ]
     },
     "execution_count": 30,
     "metadata": {},
     "output_type": "execute_result"
    }
   ],
   "source": [
    "# Getting Contingency Table \n",
    "\n",
    "table = pd.crosstab(df['sex'], df['smoker'])\n",
    "table"
   ]
  },
  {
   "cell_type": "code",
   "execution_count": 32,
   "id": "de81e069",
   "metadata": {
    "scrolled": true
   },
   "outputs": [
    {
     "name": "stdout",
     "output_type": "stream",
     "text": [
      "0.0062765550120107375\n"
     ]
    },
    {
     "data": {
      "text/plain": [
       "True"
      ]
     },
     "execution_count": 32,
     "metadata": {},
     "output_type": "execute_result"
    }
   ],
   "source": [
    "# Results\n",
    "smoker_sex_results = stats.chi2_contingency(table)\n",
    "chi2, p, deg_free, expected_vals = smoker_sex_results\n",
    "print(p)\n",
    "p<.05"
   ]
  },
  {
   "cell_type": "markdown",
   "id": "1619ae6a",
   "metadata": {},
   "source": [
    "### Conclusion for Q2: \n",
    "\n",
    "Due to our p value being less than 0.05 we'll be rejecting the null-hypothesis and supporting the alternate hypothesis: \"Men are more likely to smoke than women.\""
   ]
  },
  {
   "cell_type": "markdown",
   "id": "70d42926",
   "metadata": {},
   "source": [
    "## Q3: Do different regions have different charges, on average?\n",
    "\n",
    "Null-Hypothesis: There is no significant difference in cost between regions.\n",
    "\n",
    "Alternate Hypothesis: There is a significant difference in cost between regions. "
   ]
  },
  {
   "cell_type": "code",
   "execution_count": 33,
   "id": "531f09f2",
   "metadata": {},
   "outputs": [
    {
     "data": {
      "text/plain": [
       "southeast    364\n",
       "southwest    325\n",
       "northwest    324\n",
       "northeast    324\n",
       "Name: region, dtype: int64"
      ]
     },
     "execution_count": 33,
     "metadata": {},
     "output_type": "execute_result"
    }
   ],
   "source": [
    "# creating groups for testing\n",
    "df['region'].value_counts()"
   ]
  },
  {
   "cell_type": "code",
   "execution_count": 34,
   "id": "84f357e3",
   "metadata": {},
   "outputs": [],
   "source": [
    "southeast_df = df.loc[df['region']=='southeast'].copy()\n",
    "southwest_df = df.loc[df['region']=='southwest'].copy()\n",
    "northeast_df = df.loc[df['region']=='northeast'].copy()\n",
    "northwest_df = df.loc[df['region']=='northwest'].copy()"
   ]
  },
  {
   "cell_type": "code",
   "execution_count": 35,
   "id": "7b15c5a5",
   "metadata": {},
   "outputs": [],
   "source": [
    "# Defining feature of interest\n",
    "southeast_charges = southeast_df['charges'].mean()\n",
    "southwest_charges = southwest_df['charges'].mean()\n",
    "northeast_charges = northeast_df['charges'].mean()\n",
    "northwest_charges = northwest_df['charges'].mean()"
   ]
  },
  {
   "cell_type": "code",
   "execution_count": 52,
   "id": "fb706e6f",
   "metadata": {},
   "outputs": [],
   "source": [
    "# Checking for outliers \n",
    "southeast_outliers = np.abs(stats.zscore(southeast_charges)) > 3\n",
    "southwest_outliers = np.abs(stats.zscore(southwest_charges)) > 3\n",
    "northeast_outliers = np.abs(stats.zscore(northeast_charges)) > 3\n",
    "northwest_outliers = np.abs(stats.zscore(northwest_charges)) > 3"
   ]
  },
  {
   "cell_type": "code",
   "execution_count": 54,
   "id": "c4ccd1f2",
   "metadata": {
    "scrolled": true
   },
   "outputs": [
    {
     "name": "stdout",
     "output_type": "stream",
     "text": [
      "2\n",
      "8\n",
      "4\n",
      "7\n"
     ]
    }
   ],
   "source": [
    "print(southeast_outliers.sum())\n",
    "print(southwest_outliers.sum())\n",
    "print(northeast_outliers.sum())\n",
    "print(northwest_outliers.sum())"
   ]
  },
  {
   "cell_type": "code",
   "execution_count": 55,
   "id": "532d87e1",
   "metadata": {},
   "outputs": [],
   "source": [
    "# Removing outliers\n",
    "southeast_charges = southeast_charges[(np.abs(stats.zscore(southeast_charges)) < 3)]\n",
    "southwest_charges = southwest_charges[(np.abs(stats.zscore(southwest_charges)) < 3)]\n",
    "northeast_charges = northeast_charges[(np.abs(stats.zscore(northeast_charges)) < 3)]\n",
    "northwest_charges = northwest_charges[(np.abs(stats.zscore(northwest_charges)) < 3)]"
   ]
  },
  {
   "cell_type": "code",
   "execution_count": 56,
   "id": "31254021",
   "metadata": {},
   "outputs": [
    {
     "name": "stdout",
     "output_type": "stream",
     "text": [
      "True\n"
     ]
    }
   ],
   "source": [
    "# Checking equal variance\n",
    "region_variance = stats.levene(southeast_charges, southwest_charges, northeast_charges, northwest_charges)\n",
    "print(region_variance.pvalue<.05)"
   ]
  },
  {
   "cell_type": "code",
   "execution_count": null,
   "id": "1459d2bb",
   "metadata": {},
   "outputs": [],
   "source": [
    "# Running ANOVA test based on assumptions\n"
   ]
  }
 ],
 "metadata": {
  "kernelspec": {
   "display_name": "Python (dojo-env)",
   "language": "python",
   "name": "dojo-env"
  },
  "language_info": {
   "codemirror_mode": {
    "name": "ipython",
    "version": 3
   },
   "file_extension": ".py",
   "mimetype": "text/x-python",
   "name": "python",
   "nbconvert_exporter": "python",
   "pygments_lexer": "ipython3",
   "version": "3.8.13"
  },
  "toc": {
   "base_numbering": 1,
   "nav_menu": {},
   "number_sections": true,
   "sideBar": true,
   "skip_h1_title": false,
   "title_cell": "Table of Contents",
   "title_sidebar": "Contents",
   "toc_cell": false,
   "toc_position": {},
   "toc_section_display": true,
   "toc_window_display": true
  }
 },
 "nbformat": 4,
 "nbformat_minor": 5
}
